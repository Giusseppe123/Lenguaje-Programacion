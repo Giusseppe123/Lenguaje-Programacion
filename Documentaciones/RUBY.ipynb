{
 "cells": [
  {
   "cell_type": "markdown",
   "id": "944ab06b",
   "metadata": {},
   "source": [
    "# Documentación Exhaustiva del Lenguaje Ruby\n",
    "\n",
    "Este documento es una guía detallada de **Ruby**, un lenguaje de programación dinámico, interpretado y orientado a objetos, conocido por su sintaxis elegante y el framework de desarrollo web Ruby on Rails.\n",
    "\n",
    "---\n",
    "\n",
    "## 1. Configuración y Sintaxis Fundamental\n",
    "\n",
    "### 1.1 Entorno de Ejecución\n",
    "Ruby es un lenguaje interpretado. Se necesita el **intérprete de Ruby** instalado en el sistema. Los archivos Ruby tienen la extensión `.rb` y se ejecutan desde la terminal usando `ruby nombre_archivo.rb`.\n",
    "\n",
    "### 1.2 Salida y Comentarios\n",
    "En Ruby, todo es un objeto. Las instrucciones no requieren punto y coma al final."
   ]
  },
  {
   "cell_type": "code",
   "execution_count": null,
   "id": "25b99aac",
   "metadata": {
    "vscode": {
     "languageId": "plaintext"
    }
   },
   "outputs": [],
   "source": [
    "# Comentario de una sola línea en Ruby.\n",
    "\n",
    "=begin\n",
    "  Esto es un bloque de comentario\n",
    "  multilínea en Ruby.\n",
    "=end\n",
    "\n",
    "# 'puts' (put string) imprime y añade un salto de línea.\n",
    "puts \"Hola, Ruby\"\n",
    "\n",
    "# 'print' imprime sin salto de línea.\n",
    "print \"El resultado de \"\n",
    "print 5 + 3"
   ]
  },
  {
   "cell_type": "markdown",
   "id": "9ed4feea",
   "metadata": {},
   "source": [
    "## 2. Variables, Constantes y Tipos de Datos\n",
    "\n",
    "Ruby es de **tipado dinámico y fuerte**. Todo es un objeto.\n",
    "\n",
    "* **Variables Locales:** `nombre_variable` (minúsculas o guion bajo).\n",
    "* **Constantes:** `NombreConstante` (mayúscula inicial)."
   ]
  },
  {
   "cell_type": "code",
   "execution_count": null,
   "id": "bf5c23e8",
   "metadata": {
    "vscode": {
     "languageId": "plaintext"
    }
   },
   "outputs": [],
   "source": [
    "# Los tipos de datos son clases\n",
    "nombre = \"Desarrollador\"   # String\n",
    "edad = 30                  # Integer (Fixnum)\n",
    "promedio = 4.5             # Float\n",
    "aprobado = true            # TrueClass\n",
    "reprobado = false          # FalseClass\n",
    "sin_datos = nil            # NilClass\n",
    "\n",
    "puts \"Tipo de dato de 'nombre': #{nombre.class}\"\n",
    "puts \"Tipo de dato de 'edad': #{edad.class}\"\n",
    "puts \"Tipo de dato de 'sin_datos': #{sin_datos.class}\""
   ]
  },
  {
   "cell_type": "markdown",
   "id": "2c54070f",
   "metadata": {},
   "source": [
    "## 3. Interpolación y Operadores\n",
    "\n",
    "### 3.1 Interpolación\n",
    "La interpolación de cadenas (insertar variables) solo funciona en comillas dobles (`\"`) usando la sintaxis `#{expresion}`."
   ]
  },
  {
   "cell_type": "code",
   "execution_count": null,
   "id": "93dc93a3",
   "metadata": {
    "vscode": {
     "languageId": "plaintext"
    }
   },
   "outputs": [],
   "source": [
    "materia = \"Matemáticas\"\n",
    "nota = 19\n",
    "\n",
    "# Interpolación\n",
    "puts \"El estudiante obtuvo #{nota} en la materia de #{materia}.\"\n",
    "\n",
    "# Sin interpolación (comillas simples)\n",
    "puts 'El estudiante obtuvo #{nota} en la materia de #{materia}.'\n",
    "\n",
    "# Operador de exponenciación\n",
    "puts \"2 elevado a la 3ra potencia es: #{2 ** 3}\""
   ]
  },
  {
   "cell_type": "markdown",
   "id": "783cc121",
   "metadata": {},
   "source": [
    "## 4. Estructuras de Control\n",
    "\n",
    "Las estructuras de control en Ruby terminan con la palabra clave `end`.\n",
    "\n",
    "### 4.1 Condicionales (if, unless)"
   ]
  },
  {
   "cell_type": "code",
   "execution_count": null,
   "id": "cf80d381",
   "metadata": {
    "vscode": {
     "languageId": "plaintext"
    }
   },
   "outputs": [],
   "source": [
    "nota = 15\n",
    "\n",
    "if nota >= 18\n",
    "  puts \"Calificación: A\"\n",
    "elsif nota >= 10\n",
    "  puts \"Calificación: B\"\n",
    "else\n",
    "  puts \"Calificación: C\"\n",
    "end\n",
    "\n",
    "# 'unless' es lo opuesto a 'if' (ejecuta si es falso)\n",
    "esta_logueado = false\n",
    "\n",
    "unless esta_logueado\n",
    "  puts \"Por favor, inicie sesión.\"\n",
    "end"
   ]
  },
  {
   "cell_type": "markdown",
   "id": "904210a5",
   "metadata": {},
   "source": [
    "### 4.2 Bucles (while)"
   ]
  },
  {
   "cell_type": "code",
   "execution_count": null,
   "id": "262e04d3",
   "metadata": {
    "vscode": {
     "languageId": "plaintext"
    }
   },
   "outputs": [],
   "source": [
    "# Bucle 'while'\n",
    "contador = 0\n",
    "while contador < 3\n",
    "  puts \"Iteración (while): #{contador}\"\n",
    "  contador += 1 # Abreviatura de contador = contador + 1\n",
    "end"
   ]
  },
  {
   "cell_type": "markdown",
   "id": "b2c9a1dc",
   "metadata": {},
   "source": [
    "## 5. Colecciones\n",
    "\n",
    "### 5.1 Arrays (Arreglos)\n",
    "Colecciones ordenadas de objetos."
   ]
  },
  {
   "cell_type": "code",
   "execution_count": null,
   "id": "081de243",
   "metadata": {
    "vscode": {
     "languageId": "plaintext"
    }
   },
   "outputs": [],
   "source": [
    "# Array de diferentes tipos de datos\n",
    "mi_array = [100, \"Texto\", 3.14]\n",
    "\n",
    "# Acceso por índice\n",
    "puts \"Elemento 0: #{mi_array[0]}\"\n",
    "\n",
    "# Añadir elementos\n",
    "mi_array.push(\"Nuevo Elemento\")\n",
    "mi_array << \"Otro Elemento\" # '<<' es un alias de 'push'\n",
    "\n",
    "puts \"Array completo: #{mi_array.inspect}\""
   ]
  },
  {
   "cell_type": "markdown",
   "id": "b9b193fc",
   "metadata": {},
   "source": [
    "### 5.2 Hashes (Diccionarios)\n",
    "Colecciones de pares clave-valor."
   ]
  },
  {
   "cell_type": "code",
   "execution_count": null,
   "id": "b8d7273b",
   "metadata": {
    "vscode": {
     "languageId": "plaintext"
    }
   },
   "outputs": [],
   "source": [
    "# Sintaxis clásica (Hash Rocket)\n",
    "config_vieja = { \"font_size\" => 12, \"theme\" => \"dark\" }\n",
    "\n",
    "# Sintaxis moderna (usando Símbolos como claves)\n",
    "config_moderna = {\n",
    "  font_size: 14,\n",
    "  theme: \"light\"\n",
    "}\n",
    "\n",
    "puts \"Tema actual: #{config_moderna[:theme]}\""
   ]
  },
  {
   "cell_type": "markdown",
   "id": "83469be2",
   "metadata": {},
   "source": [
    "## 6. Métodos (Funciones)\n",
    "\n",
    "En Ruby, las funciones se llaman métodos. Se definen con `def` y terminan con `end`. El `return` es implícito (devuelve la última expresión evaluada)."
   ]
  },
  {
   "cell_type": "code",
   "execution_count": null,
   "id": "29ac819f",
   "metadata": {
    "vscode": {
     "languageId": "plaintext"
    }
   },
   "outputs": [],
   "source": [
    "def saludar(nombre, saludo = \"Hola\")\n",
    "  # La última línea es el valor de retorno\n",
    "  \"#{saludo}, #{nombre}. ¡Bienvenido a Ruby!\"\n",
    "end\n",
    "\n",
    "puts saludar(\"Ana\")\n",
    "puts saludar(\"Juan\", \"Buenos días\")"
   ]
  },
  {
   "cell_type": "markdown",
   "id": "0cad0b5d",
   "metadata": {},
   "source": [
    "## 7. Bloques e Iteradores\n",
    "\n",
    "Una de las características más poderosas de Ruby son los **bloques**. Un bloque es un trozo de código anónimo que se puede pasar a un método.\n",
    "\n",
    "### 7.1 El iterador `.each`"
   ]
  },
  {
   "cell_type": "code",
   "execution_count": null,
   "id": "2b7dceb6",
   "metadata": {
    "vscode": {
     "languageId": "plaintext"
    }
   },
   "outputs": [],
   "source": [
    "numeros = [1, 2, 3]\n",
    "\n",
    "# Pasamos un bloque al método '.each' usando 'do...end'\n",
    "numeros.each do |numero|\n",
    "  puts \"El número es #{numero}\"\n",
    "end\n",
    "\n",
    "# Para bloques de una línea, se usan llaves {}\n",
    "numeros.each { |n| puts \"Número (bloque corto): #{n}\" }"
   ]
  },
  {
   "cell_type": "markdown",
   "id": "40854c76",
   "metadata": {},
   "source": [
    "### 7.2 El iterador `.map`\n",
    "`.map` (o `.collect`) itera sobre una colección y devuelve un **nuevo array** con los resultados de ejecutar el bloque en cada elemento."
   ]
  },
  {
   "cell_type": "code",
   "execution_count": null,
   "id": "77ce2585",
   "metadata": {
    "vscode": {
     "languageId": "plaintext"
    }
   },
   "outputs": [],
   "source": [
    "numeros = [5, 10, 15]\n",
    "\n",
    "# Crear un nuevo array con el doble de cada número\n",
    "dobles = numeros.map do |n|\n",
    "  n * 2\n",
    "end\n",
    "\n",
    "puts \"Array original: #{numeros.inspect}\"\n",
    "puts \"Array de dobles: #{dobles.inspect}\""
   ]
  }
 ],
 "metadata": {
  "language_info": {
   "name": "python"
  }
 },
 "nbformat": 4,
 "nbformat_minor": 5
}
