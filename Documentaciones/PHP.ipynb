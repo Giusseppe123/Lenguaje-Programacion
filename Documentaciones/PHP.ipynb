{
 "cells": [
  {
   "cell_type": "markdown",
   "id": "2fc02c3e",
   "metadata": {},
   "source": [
    "# Documentación del Lenguaje PHP\n",
    "\n",
    "Este documento sirve como una guía detallada de **PHP (Hypertext Preprocessor)**, un lenguaje de script del lado del servidor diseñado fundamentalmente para el desarrollo web. Se explorarán sus fundamentos, estructuras y características clave.\n",
    "\n",
    "---\n",
    "\n",
    "## 1. Configuración y Sintaxis Fundamental\n",
    "\n",
    "### 1.1 Entorno de Ejecución\n",
    "PHP es un lenguaje interpretado del lado del servidor. Para ejecutar archivos `.php`, se requiere un servidor web (como Apache o Nginx) con el intérprete de PHP. Paquetes como **XAMPP** o **WAMP** instalan este entorno completo localmente.\n",
    "\n",
    "### 1.2 Delimitadores y Comentarios\n",
    "El código PHP se procesa dentro de delimitadores específicos. Cualquier texto fuera de estos se envía directamente al navegador como HTML."
   ]
  },
  {
   "cell_type": "code",
   "execution_count": null,
   "id": "5c9b6ee8",
   "metadata": {
    "vscode": {
     "languageId": "powershell"
    }
   },
   "outputs": [],
   "source": [
    "<?php\n",
    "// Comentario de una sola línea\n",
    "\n",
    "/*\n",
    "   Bloque de comentario\n",
    "   multilínea.\n",
    "*/\n",
    "\n",
    "// La salida al navegador se realiza con 'echo' o 'print'.\n",
    "echo \"<h1>Página de Bienvenida</h1>\";\n",
    "print \"<p>Este contenido ha sido generado dinámicamente por PHP.</p>\";\n",
    "\n",
    "// El delimitador de cierre '?>' es opcional si el archivo es PHP puro."
   ]
  },
  {
   "cell_type": "markdown",
   "id": "2c57b521",
   "metadata": {},
   "source": [
    "## 2. Variables, Constantes y Tipos de Datos\n",
    "\n",
    "PHP es un lenguaje de **tipado dinámico**. Las variables no necesitan declaración de tipo explícita; el tipo se determina en tiempo de ejecución.\n",
    "\n",
    "### 2.1 Variables\n",
    "Las variables siempre comienzan con el símbolo del dólar (`$`)."
   ]
  },
  {
   "cell_type": "code",
   "execution_count": null,
   "id": "1ec94a0e",
   "metadata": {
    "vscode": {
     "languageId": "powershell"
    }
   },
   "outputs": [],
   "source": [
    "<?php\n",
    "$texto = \"Cadena de caracteres\";     // String\n",
    "$numero_entero = 42;               // Integer\n",
    "$numero_decimal = 19.85;           // Float (o double)\n",
    "$es_valido = true;                 // Boolean\n",
    "$sin_valor = null;                 // NULL\n",
    "\n",
    "// La interpolación de variables solo funciona con comillas dobles\n",
    "echo \"El valor de la variable 'texto' es: $texto <br>\";\n",
    "\n",
    "// La concatenación se realiza con el operador punto (.)\n",
    "echo 'El valor del entero es: ' . $numero_entero;"
   ]
  },
  {
   "cell_type": "markdown",
   "id": "8b2cc12a",
   "metadata": {},
   "source": [
    "### 2.2 Constantes\n",
    "Las constantes almacenan valores que no pueden cambiar. Se definen usando la función `define()`."
   ]
  },
  {
   "cell_type": "code",
   "execution_count": null,
   "id": "f021b38d",
   "metadata": {
    "vscode": {
     "languageId": "powershell"
    }
   },
   "outputs": [],
   "source": [
    "<?php\n",
    "// Las constantes, por convención, se escriben en mayúsculas.\n",
    "define(\"VERSION_APP\", \"1.0.5\");\n",
    "define(\"TASA_IVA\", 0.16);\n",
    "\n",
    "echo \"La versión actual es: \" . VERSION_APP . \"<br>\";\n",
    "echo \"El IVA a aplicar es: \" . TASA_IVA;\n",
    "?>"
   ]
  },
  {
   "cell_type": "markdown",
   "id": "93f9096c",
   "metadata": {},
   "source": [
    "## 3. Estructuras de Control\n",
    "\n",
    "### 3.1 Condicionales (if, elseif, else)\n",
    "Permiten la ejecución de bloques de código basados en una evaluación lógica."
   ]
  },
  {
   "cell_type": "code",
   "execution_count": null,
   "id": "fc643192",
   "metadata": {
    "vscode": {
     "languageId": "powershell"
    }
   },
   "outputs": [],
   "source": [
    "<?php\n",
    "$rol_usuario = \"Editor\";\n",
    "\n",
    "if ($rol_usuario == \"Administrador\") {\n",
    "    echo \"Acceso total al panel.\";\n",
    "} elseif ($rol_usuario == \"Editor\") {\n",
    "    echo \"Acceso al panel de contenidos.\";\n",
    "} else {\n",
    "    echo \"Acceso denegado.\";\n",
    "}\n",
    "?>"
   ]
  },
  {
   "cell_type": "markdown",
   "id": "4ec9ed68",
   "metadata": {},
   "source": [
    "### 3.2 Declaración `switch`\n",
    "Útil para comparar una variable contra múltiples valores posibles."
   ]
  },
  {
   "cell_type": "code",
   "execution_count": null,
   "id": "b3c41380",
   "metadata": {
    "vscode": {
     "languageId": "powershell"
    }
   },
   "outputs": [],
   "source": [
    "<?php\n",
    "$codigo_http = 404;\n",
    "\n",
    "switch ($codigo_http) {\n",
    "    case 200:\n",
    "        echo \"OK - Solicitud exitosa.\";\n",
    "        break;\n",
    "    case 404:\n",
    "        echo \"Error - Página no encontrada.\";\n",
    "        break;\n",
    "    case 500:\n",
    "        echo \"Error - Error interno del servidor.\";\n",
    "        break;\n",
    "    default:\n",
    "        echo \"Código de estado desconocido.\";\n",
    "}\n",
    "?>"
   ]
  },
  {
   "cell_type": "markdown",
   "id": "61fab19a",
   "metadata": {},
   "source": [
    "### 3.3 Bucles (while y for)"
   ]
  },
  {
   "cell_type": "code",
   "execution_count": null,
   "id": "b94e82c8",
   "metadata": {
    "vscode": {
     "languageId": "powershell"
    }
   },
   "outputs": [],
   "source": [
    "<?php\n",
    "// Bucle 'while' (mientras la condición sea verdadera)\n",
    "$contador = 0;\n",
    "while ($contador < 3) {\n",
    "    echo \"While: $contador <br>\";\n",
    "    $contador++;\n",
    "}\n",
    "\n",
    "// Bucle 'for' (para un número determinado de iteraciones)\n",
    "for ($i = 0; $i < 3; $i++) {\n",
    "    echo \"For: $i <br>\";\n",
    "}\n",
    "?>"
   ]
  },
  {
   "cell_type": "markdown",
   "id": "3eb86de8",
   "metadata": {},
   "source": [
    "## 4. Arrays (Arreglos)\n",
    "\n",
    "PHP soporta dos tipos principales de arrays.\n",
    "\n",
    "### 4.1 Arrays Indexados\n",
    "Utilizan índices numéricos (comenzando en 0)."
   ]
  },
  {
   "cell_type": "code",
   "execution_count": null,
   "id": "7891d4e8",
   "metadata": {
    "vscode": {
     "languageId": "powershell"
    }
   },
   "outputs": [],
   "source": [
    "<?php\n",
    "// Sintaxis moderna de array\n",
    "$dias_semana = [\"Lunes\", \"Martes\", \"Miércoles\", \"Jueves\", \"Viernes\"];\n",
    "\n",
    "echo \"El primer día laboral es: \" . $dias_semana[0] . \"<br>\";\n",
    "\n",
    "// 'foreach' es la forma más común de iterar\n",
    "foreach ($dias_semana as $dia) {\n",
    "    echo $dia . \"<br>\";\n",
    "}\n",
    "?>"
   ]
  },
  {
   "cell_type": "markdown",
   "id": "6e9dce3c",
   "metadata": {},
   "source": [
    "### 4.2 Arrays Asociativos\n",
    "Utilizan claves de texto (strings) para acceder a los valores."
   ]
  },
  {
   "cell_type": "code",
   "execution_count": null,
   "id": "726d8a7d",
   "metadata": {
    "vscode": {
     "languageId": "powershell"
    }
   },
   "outputs": [],
   "source": [
    "<?php\n",
    "$producto = [\n",
    "    \"id\" => 105,\n",
    "    \"nombre\" => \"Teclado Mecánico\",\n",
    "    \"precio\" => 120.50,\n",
    "    \"disponible\" => true\n",
    "];\n",
    "\n",
    "echo \"Producto: \" . $producto[\"nombre\"] . \"<br>\";\n",
    "echo \"Precio: $\" . $producto[\"precio\"] . \"<br>\";\n",
    "\n",
    "// Iterar un array asociativo\n",
    "foreach ($producto as $clave => $valor) {\n",
    "    echo \"$clave: $valor <br>\";\n",
    "}\n",
    "?>"
   ]
  },
  {
   "cell_type": "markdown",
   "id": "9a1c9ec6",
   "metadata": {},
   "source": [
    "## 5. Funciones\n",
    "\n",
    "Bloques de código reutilizables que aceptan parámetros y pueden devolver un valor."
   ]
  },
  {
   "cell_type": "code",
   "execution_count": null,
   "id": "32f200c6",
   "metadata": {
    "vscode": {
     "languageId": "powershell"
    }
   },
   "outputs": [],
   "source": [
    "<?php\n",
    "/**\n",
    " * Calcula el precio final aplicando un impuesto.\n",
    " *\n",
    " * @param float $precio_base El precio sin impuestos.\n",
    " * @param float $tasa_impuesto El impuesto (ej: 0.16 para 16%).\n",
    " * @return float El precio total.\n",
    " */\n",
    "function calcularPrecioTotal($precio_base, $tasa_impuesto = 0.16)\n",
    "{\n",
    "    $impuesto = $precio_base * $tasa_impuesto;\n",
    "    return $precio_base + $impuesto;\n",
    "}\n",
    "\n",
    "$precio_laptop = 500;\n",
    "$precio_final = calcularPrecioTotal($precio_laptop);\n",
    "\n",
    "echo \"El precio final de la laptop es: $\" . $precio_final;\n",
    "?>"
   ]
  },
  {
   "cell_type": "markdown",
   "id": "8850f1a3",
   "metadata": {},
   "source": [
    "## 6. Manejo de Formularios Web\n",
    "\n",
    "PHP se destaca en el manejo de datos enviados desde formularios HTML.\n",
    "\n",
    "* `$_GET`: Recoge datos enviados en la URL (método GET).\n",
    "* `$_POST`: Recoge datos enviados en el cuerpo de la solicitud (método POST).\n",
    "\n",
    "### Ejemplo de HTML (archivo form.html):\n",
    "```html\n",
    "<form action=\"procesar.php\" method=\"POST\">\n",
    "    <label for=\"usuario\">Usuario:</label>\n",
    "    <input type=\"text\" id=\"usuario\" name=\"usuario\">\n",
    "    <button type=\"submit\">Enviar</button>\n",
    "</form>"
   ]
  },
  {
   "cell_type": "code",
   "execution_count": null,
   "id": "4678f0e5",
   "metadata": {
    "vscode": {
     "languageId": "powershell"
    }
   },
   "outputs": [],
   "source": [
    "\n",
    "<?php\n",
    "// Este bloque simula el contenido de 'procesar.php'\n",
    "// (En un entorno real, $_POST estaría vacío si no se recibe un formulario)\n",
    "\n",
    "// Comprobamos si la variable 'usuario' fue enviada por POST\n",
    "if (isset($_POST['usuario'])) {\n",
    "\n",
    "    // 'htmlspecialchars' previene ataques XSS al escapar caracteres HTML\n",
    "    $nombre_usuario = htmlspecialchars($_POST['usuario']);\n",
    "    \n",
    "    echo \"Bienvenido, \" . $nombre_usuario . \".\";\n",
    "\n",
    "} else {\n",
    "    echo \"No se recibieron datos del formulario.\";\n",
    "}\n",
    "?>"
   ]
  }
 ],
 "metadata": {
  "kernelspec": {
   "display_name": ".NET (PowerShell)",
   "language": "PowerShell",
   "name": ".net-powershell"
  },
  "language_info": {
   "name": "PowerShell"
  }
 },
 "nbformat": 4,
 "nbformat_minor": 5
}
