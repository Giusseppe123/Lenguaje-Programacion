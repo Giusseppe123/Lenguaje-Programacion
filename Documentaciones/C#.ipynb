{
 "cells": [
  {
   "cell_type": "markdown",
   "id": "f20bf35c",
   "metadata": {},
   "source": [
    "# Documentación del Lenguaje C#\n",
    "\n",
    "Este documento es una guía detallada de **C# (C Sharp)**, un lenguaje de programación moderno, orientado a objetos y de tipado estático, desarrollado por Microsoft como parte de la plataforma **.NET**.\n",
    "\n",
    "---\n",
    "\n",
    "## 1. Configuración y Sintaxis Fundamental\n",
    "\n",
    "### 1.1 Entorno de Ejecución\n",
    "C# es un lenguaje compilado que se ejecuta sobre el *runtime* de .NET.\n",
    "* **SDK de .NET:** Se requiere el SDK de .NET (Core) para compilar y ejecutar aplicaciones.\n",
    "* **Jupyter:** Para ejecutar C# en un Notebook, se debe instalar la extensión **Polyglot Notebooks** (anteriormente .NET Interactive) en VS Code y seleccionar el kernel `.NET (C#)`.\n",
    "\n",
    "### 1.2 Sintaxis Básica\n",
    "C# es sensible a mayúsculas y minúsculas. Cada instrucción debe terminar con un punto y coma (`;`)."
   ]
  },
  {
   "cell_type": "code",
   "execution_count": null,
   "id": "425aacd4",
   "metadata": {
    "vscode": {
     "languageId": "csharp"
    }
   },
   "outputs": [],
   "source": [
    "// Los comentarios de una sola línea usan doble barra\n",
    "/*\n",
    "   Los comentarios multilínea\n",
    "   usan barra y asterisco.\n",
    "*/\n",
    "\n",
    "// La salida estándar a la consola se realiza con la clase Console.\n",
    "Console.WriteLine(\"¡Hola, mundo desde C#!\");\n",
    "Console.WriteLine(\"Esta es la segunda línea.\");"
   ]
  },
  {
   "cell_type": "markdown",
   "id": "cd1767c5",
   "metadata": {},
   "source": [
    "## 2. Variables y Tipado Estático\n",
    "\n",
    "C# es un lenguaje de **tipado estático**. El tipo de una variable debe declararse explícitamente antes de su uso.\n",
    "\n",
    "### 2.1 Tipos de Datos Primitivos"
   ]
  },
  {
   "cell_type": "code",
   "execution_count": null,
   "id": "880fa0c3",
   "metadata": {
    "vscode": {
     "languageId": "csharp"
    }
   },
   "outputs": [],
   "source": [
    "// Tipos de datos numéricos\n",
    "int cantidad = 100;         // Entero de 32 bits\n",
    "double precio = 149.99;     // Decimal de doble precisión (para cálculos)\n",
    "decimal salario = 85000.75M;  // Decimal de alta precisión (para dinero, sufijo M)\n",
    "\n",
    "// Tipos de texto\n",
    "string nombre = \"Producto Ejemplo\"; // Cadena de texto (comillas dobles)\n",
    "char categoria = 'A';             // Un solo caracter (comillas simples)\n",
    "\n",
    "// Tipo lógico\n",
    "bool estaActivo = true;\n",
    "\n",
    "Console.WriteLine($\"Nombre: {nombre}\");\n",
    "Console.WriteLine($\"Salario: {salario}\");"
   ]
  },
  {
   "cell_type": "markdown",
   "id": "78af761c",
   "metadata": {},
   "source": [
    "### 2.2 Inferencia de Tipos (`var`)\n",
    "La palabra clave `var` permite al compilador determinar el tipo de la variable en el momento de la compilación, basándose en el valor asignado."
   ]
  },
  {
   "cell_type": "code",
   "execution_count": null,
   "id": "33d0a31f",
   "metadata": {
    "vscode": {
     "languageId": "csharp"
    }
   },
   "outputs": [],
   "source": [
    "var idCliente = 501;             // El compilador infiere 'int'\n",
    "var mensaje = \"Inicio de sesión\";  // El compilador infiere 'string'\n",
    "\n",
    "// idCliente = \"Hola\"; // Esto generaría un error de compilación"
   ]
  },
  {
   "cell_type": "markdown",
   "id": "1eb64e28",
   "metadata": {},
   "source": [
    "## 3. Estructuras de Control\n",
    "\n",
    "### 3.1 Condicionales (if/else y switch)"
   ]
  },
  {
   "cell_type": "code",
   "execution_count": null,
   "id": "5632f460",
   "metadata": {
    "vscode": {
     "languageId": "csharp"
    }
   },
   "outputs": [],
   "source": [
    "int nivelAcceso = 2;\n",
    "\n",
    "if (nivelAcceso == 3)\n",
    "{\n",
    "    Console.WriteLine(\"Acceso de Administrador.\");\n",
    "}\n",
    "else if (nivelAcceso == 2)\n",
    "{\n",
    "    Console.WriteLine(\"Acceso de Editor.\");\n",
    "}\n",
    "else\n",
    "{\n",
    "    Console.WriteLine(\"Acceso de Visitante.\");\n",
    "}\n",
    "\n",
    "// Declaración 'switch'\n",
    "char comando = 'S';\n",
    "switch (comando)\n",
    "{\n",
    "    case 'S':\n",
    "        Console.WriteLine(\"Guardar archivo...\");\n",
    "        break;\n",
    "    case 'O':\n",
    "        Console.WriteLine(\"Abrir archivo...\");\n",
    "        break;\n",
    "    default:\n",
    "        Console.WriteLine(\"Comando no reconocido.\");\n",
    "        break;\n",
    "}"
   ]
  },
  {
   "cell_type": "markdown",
   "id": "9a86b570",
   "metadata": {},
   "source": [
    "### 3.2 Bucles (`for` y `while`)"
   ]
  },
  {
   "cell_type": "code",
   "execution_count": null,
   "id": "878f4b4d",
   "metadata": {
    "vscode": {
     "languageId": "csharp"
    }
   },
   "outputs": [],
   "source": [
    "// Bucle 'for' para iteraciones conocidas\n",
    "Console.WriteLine(\"Bucle For:\");\n",
    "for (int i = 0; i < 3; i++)\n",
    "{\n",
    "    Console.WriteLine($\"Iteración {i}\");\n",
    "}\n",
    "\n",
    "// Bucle 'while' para iteraciones basadas en una condición\n",
    "Console.WriteLine(\"\\nBucle While:\");\n",
    "int n = 0;\n",
    "while (n < 3)\n",
    "{\n",
    "    Console.WriteLine($\"Contador {n}\");\n",
    "    n++;\n",
    "}"
   ]
  },
  {
   "cell_type": "markdown",
   "id": "491663da",
   "metadata": {},
   "source": [
    "## 4. Colecciones\n",
    "\n",
    "### 4.1 Arrays\n",
    "Colecciones de tamaño fijo y un solo tipo de dato."
   ]
  },
  {
   "cell_type": "code",
   "execution_count": null,
   "id": "38403656",
   "metadata": {
    "vscode": {
     "languageId": "csharp"
    }
   },
   "outputs": [],
   "source": [
    "// Declaración e inicialización de un array\n",
    "string[] inventario = new string[3];\n",
    "inventario[0] = \"Mouse\";\n",
    "inventario[1] = \"Monitor\";\n",
    "inventario[2] = \"CPU\";\n",
    "\n",
    "// 'foreach' es la forma más común de iterar colecciones\n",
    "Console.WriteLine(\"Contenido del inventario:\");\n",
    "foreach (string item in inventario)\n",
    "{\n",
    "    Console.WriteLine($\"- {item}\");\n",
    "}"
   ]
  },
  {
   "cell_type": "markdown",
   "id": "3ceeab5d",
   "metadata": {},
   "source": [
    "### 4.2 Listas Genéricas (`List<T>`)\n",
    "Colecciones de tamaño dinámico. Son más flexibles que los arrays. Requieren el espacio de nombres `System.Collections.Generic`."
   ]
  },
  {
   "cell_type": "code",
   "execution_count": null,
   "id": "9c4da2d0",
   "metadata": {
    "vscode": {
     "languageId": "csharp"
    }
   },
   "outputs": [],
   "source": [
    "using System.Collections.Generic;\n",
    "\n",
    "List<int> calificaciones = new List<int>();\n",
    "calificaciones.Add(18);\n",
    "calificaciones.Add(15);\n",
    "calificaciones.Add(20);\n",
    "\n",
    "// Las listas tienen una propiedad .Count\n",
    "Console.WriteLine($\"Número de calificaciones: {calificaciones.Count}\");\n",
    "Console.WriteLine($\"Primera calificación: {calificaciones[0]}\");"
   ]
  },
  {
   "cell_type": "markdown",
   "id": "143c02f8",
   "metadata": {},
   "source": [
    "## 5. Métodos (Funciones)\n",
    "\n",
    "En C#, las funciones se denominan **métodos**. Deben declarar un tipo de retorno (o `void` si no devuelven nada) y los tipos de sus parámetros."
   ]
  },
  {
   "cell_type": "code",
   "execution_count": null,
   "id": "26f106e6",
   "metadata": {
    "vscode": {
     "languageId": "csharp"
    }
   },
   "outputs": [],
   "source": [
    "// Definición de un método estático\n",
    "// 'static' significa que pertenece a la clase y no a una instancia\n",
    "// 'bool' es el tipo de retorno\n",
    "\n",
    "bool EsMayorDeEdad(int edad)\n",
    "{\n",
    "    if (edad >= 18)\n",
    "    {\n",
    "        return true;\n",
    "    }\n",
    "    else\n",
    "    {\n",
    "        return false;\n",
    "    }\n",
    "}\n",
    "\n",
    "// Llamada al método\n",
    "int edadUsuario = 25;\n",
    "if (EsMayorDeEdad(edadUsuario))\n",
    "{\n",
    "    Console.WriteLine(\"El usuario es mayor de edad.\");\n",
    "}"
   ]
  },
  {
   "cell_type": "markdown",
   "id": "9c014584",
   "metadata": {},
   "source": [
    "## 6. Programación Orientada a Objetos (Clases)\n",
    "\n",
    "C# es un lenguaje fundamentalmente orientado a objetos. Las **Clases** son las plantillas para crear objetos."
   ]
  },
  {
   "cell_type": "code",
   "execution_count": null,
   "id": "4af3e66a",
   "metadata": {
    "vscode": {
     "languageId": "csharp"
    }
   },
   "outputs": [],
   "source": [
    "// 1. Definición de la Clase\n",
    "public class Coche\n",
    "{\n",
    "    // Propiedades (Atributos)\n",
    "    public string Marca { get; set; }\n",
    "    public int Anio { get; set; }\n",
    "\n",
    "    // Constructor (método que se llama al crear un objeto)\n",
    "    public Coche(string marca, int anio)\n",
    "    {\n",
    "        Marca = marca;\n",
    "        Anio = anio;\n",
    "    }\n",
    "\n",
    "    // Método (Comportamiento)\n",
    "    public void Describir()\n",
    "    {\n",
    "        Console.WriteLine($\"Este es un {Marca} del año {Anio}.\");\n",
    "    }\n",
    "}\n",
    "\n",
    "// 2. Creación de Instancias (Objetos)\n",
    "Coche miCoche = new Coche(\"Toyota\", 2023);\n",
    "Coche otroCoche = new Coche(\"Ford\", 2021);\n",
    "\n",
    "// 3. Uso de los objetos\n",
    "miCoche.Describir();\n",
    "otroCoche.Describir();"
   ]
  },
  {
   "cell_type": "markdown",
   "id": "71aeb78b",
   "metadata": {},
   "source": [
    "## 7. Manejo de Excepciones\n",
    "\n",
    "El manejo de errores en tiempo de ejecución se realiza mediante bloques `try-catch`."
   ]
  },
  {
   "cell_type": "code",
   "execution_count": null,
   "id": "562d4005",
   "metadata": {
    "vscode": {
     "languageId": "csharp"
    }
   },
   "outputs": [],
   "source": [
    "int numerador = 10;\n",
    "int denominador = 0;\n",
    "\n",
    "try\n",
    "{\n",
    "    // Esta línea provocará una excepción\n",
    "    double resultado = numerador / denominador;\n",
    "    Console.WriteLine(resultado);\n",
    "}\n",
    "catch (DivideByZeroException ex)\n",
    "{\n",
    "    // Se captura la excepción específica\n",
    "    Console.WriteLine(\"Error: No se puede dividir por cero.\");\n",
    "    Console.WriteLine($\"Mensaje del sistema: {ex.Message}\");\n",
    "}\n",
    "catch (Exception ex)\n",
    "{\n",
    "    // Captura genérica para cualquier otro error\n",
    "    Console.WriteLine($\"Ha ocurrido un error inesperado: {ex.Message}\");\n",
    "}\n",
    "finally\n",
    "{\n",
    "    // Este bloque se ejecuta siempre, haya o no error.\n",
    "    Console.WriteLine(\"Bloque 'finally': La operación de división ha finalizado.\");\n",
    "}"
   ]
  }
 ],
 "metadata": {
  "kernelspec": {
   "display_name": ".NET (C#)",
   "language": "C#",
   "name": ".net-csharp"
  },
  "language_info": {
   "name": "C#"
  }
 },
 "nbformat": 4,
 "nbformat_minor": 5
}
